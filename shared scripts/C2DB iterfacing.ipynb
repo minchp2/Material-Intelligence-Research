{
 "cells": [
  {
   "cell_type": "code",
   "execution_count": null,
   "id": "82e1ddfd",
   "metadata": {},
   "outputs": [],
   "source": [
    "from ase.db import connect\n",
    "import pandas as pd\n",
    "from ase.data import chemical_symbols\n",
    "import ase\n",
    "import jarvis.core as js\n",
    "\n",
    "db = connect('c2db-2022-11-30.db')\n",
    "mats=list(db.select())\n",
    "\n",
    "data=[m.__dict__ for m in mats]\n",
    "dt=pd.DataFrame(data)\n",
    "dt=dt[[c for c in dt.columns if not c.startswith('_')]]"
   ]
  },
  {
   "cell_type": "code",
   "execution_count": null,
   "id": "ca93f7e9",
   "metadata": {},
   "outputs": [],
   "source": [
    "import numpy as np\n",
    "from numpy.linalg import norm\n",
    "\n",
    "#example of grabbing a subset of c2db\n",
    "dt_nona=dt[~dt[\"is_magnetic\"].isna()]\n",
    "dt_mag=dt_nona[dt_nona[\"is_magnetic\"]]\n",
    "dt_mag[\"A\"]=dt_mag[\"cell\"].apply(lambda x: norm(x[0]))\n",
    "dt_mag[(dt_mag[\"A\"]>=4.3)&(dt_mag[\"A\"]<=4.4)][[\"uid\",\"A\",\"gap\"]]"
   ]
  },
  {
   "cell_type": "code",
   "execution_count": null,
   "id": "4cc2afb2",
   "metadata": {},
   "outputs": [],
   "source": [
    "def get_alignn_atoms(x):\n",
    "    js_atoms=js.atoms.ase_to_atoms(ase.Atoms(x.numbers,x.positions,cell=x.cell,pbc=x.pbc))\n",
    "    return dict(js_atoms.to_dict())"
   ]
  },
  {
   "cell_type": "code",
   "execution_count": null,
   "id": "ce684cbd",
   "metadata": {},
   "outputs": [],
   "source": [
    "%mkdir c2db_folder"
   ]
  },
  {
   "cell_type": "code",
   "execution_count": null,
   "id": "5311e4bb",
   "metadata": {},
   "outputs": [],
   "source": [
    "dt[\"poscar_atoms\"]=dt.apply(lambda x: get_alignn_atoms(x),axis=1)\n",
    "dt[\"POSCAR_filename\"]=\"POSCAR-\"+dt[\"uid\"]+\".vasp\"\n",
    "dt[[\"POSCAR_filename\",\"cell_area\"]].to_csv(\"c2db_area_predict/id_prop.csv\",index=False,header=False)\n",
    "\n",
    "for i,x in dt.iterrows():\n",
    "    atoms=js.atoms.Atoms.from_dict(x.distorted_atoms)\n",
    "    atoms.write_poscar(\"c2db_folder/\"+x.POSCAR_filename)"
   ]
  }
 ],
 "metadata": {
  "kernelspec": {
   "display_name": "Python 3 (ipykernel)",
   "language": "python",
   "name": "python3"
  },
  "language_info": {
   "codemirror_mode": {
    "name": "ipython",
    "version": 3
   },
   "file_extension": ".py",
   "mimetype": "text/x-python",
   "name": "python",
   "nbconvert_exporter": "python",
   "pygments_lexer": "ipython3",
   "version": "3.9.12"
  }
 },
 "nbformat": 4,
 "nbformat_minor": 5
}
